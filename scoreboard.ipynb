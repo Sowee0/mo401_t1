{
 "cells": [
  {
   "cell_type": "code",
   "execution_count": 147,
   "metadata": {},
   "outputs": [],
   "source": [
    "import os\n",
    "import sys\n",
    "import json\n",
    "import copy\n",
    "from rv_zep import parse_file\n",
    "import tabulate\n",
    "\n",
    "OPCODES = {\n",
    "    'fld': 0,\n",
    "    'fsd': 1,\n",
    "    'fadd': 2,\n",
    "    'fsub': 3,\n",
    "    'fmul': 4,\n",
    "    'fdiv': 5\n",
    "}\n",
    "\n",
    "UNIT_TYPES = {\n",
    "    'fld': 'int',\n",
    "    'fsd': 'int',\n",
    "    'fadd': 'fadd',\n",
    "    'fsub': 'fadd',\n",
    "    'fmul': 'fmul',\n",
    "    'fdiv': 'fdiv'\n",
    "}\n",
    "\n",
    "# Define register prefix constants\n",
    "REG_PREFIXES = {\n",
    "    'x': 'int',\n",
    "    'f': 'float'\n",
    "}\n"
   ]
  },
  {
   "cell_type": "code",
   "execution_count": 140,
   "metadata": {},
   "outputs": [],
   "source": [
    "config_file = open(\"./unit_config.json\")\n",
    "units_configuration = json.load(config_file)"
   ]
  },
  {
   "cell_type": "code",
   "execution_count": 142,
   "metadata": {},
   "outputs": [
    {
     "data": {
      "text/plain": [
       "{'fint': {'number': 1, 'ex_cycles': 1},\n",
       " 'fmul': {'number': 2, 'ex_cycles': 4},\n",
       " 'fadd': {'number': 1, 'ex_cycles': 2},\n",
       " 'fdiv': {'number': 1, 'ex_cycles': 10}}"
      ]
     },
     "execution_count": 142,
     "metadata": {},
     "output_type": "execute_result"
    }
   ],
   "source": [
    "units_configuration"
   ]
  },
  {
   "cell_type": "code",
   "execution_count": 188,
   "metadata": {},
   "outputs": [],
   "source": [
    "class ScoreBoard:\n",
    "    def __init__(self, instructions, configuration):\n",
    "\n",
    "        self.units_configuration = configuration\n",
    "        self.instruction_queue = list(enumerate(instructions))\n",
    "        self.board = self.build_board(self.units_configuration)\n",
    "        self.ops = {}\n",
    "        self.clock_counter = 0\n",
    "        self.solution = self.build_solution(self.instruction_queue)\n",
    "    \n",
    "    def tick(self):\n",
    "\n",
    "        self.issue_instruction()\n",
    "        self.update_board()\n",
    "        self.clock_counter += 1\n",
    "\n",
    "        if self.instruction_queue == [] and not self.board_busy():\n",
    "            return True\n",
    "        else:\n",
    "            return False\n",
    "\n",
    "    def build_board(self, units_configuration):\n",
    "        #[name][busy][op][fi][fj][fk][qj][qk][rj][rk][instruction_line][state][state_cycles]\n",
    "        board = []\n",
    "        base_unit = {'type':None, 'name': None, 'busy':None, 'op':None, 'fi':None, 'fk':None, 'qj':None, 'qk':None, 'rj':None, 'instruction_line':None,'state':None,'ex_cycles':None}\n",
    "\n",
    "        for unit in units_configuration:\n",
    "            unit_number = units_configuration[unit]['number']\n",
    "            for count in range(unit_number):\n",
    "                functional_unit = copy.deepcopy(base_unit)\n",
    "                functional_unit['name'] = unit + str(count)\n",
    "                functional_unit['type'] = unit\n",
    "                functional_unit['busy'] = False\n",
    "                functional_unit['ex_cycles'] = units_configuration[unit]['ex_cycles']\n",
    "                board.append(functional_unit)\n",
    "        \n",
    "        return board\n",
    "\n",
    "    def build_solution(self, instruction_list):\n",
    "        instruction = 0\n",
    "        issue = 1\n",
    "        read = 2\n",
    "        ex = 3\n",
    "        write = 4\n",
    "\n",
    "        base_solution = ['Name', None, None, None, None]\n",
    "        header = copy.deepcopy(base_solution)\n",
    "        header[issue] = 'Issue'\n",
    "        header[read] = 'Read'\n",
    "        header[ex] = 'Ex'\n",
    "        header[write] = 'Write'\n",
    "        solution = []\n",
    "        solution.append(header)\n",
    "\n",
    "        for current_instruction in instruction_list:\n",
    "            instruction_solution = copy.deepcopy(base_solution)\n",
    "            instruction_solution[instruction] = current_instruction[1]['opcode']\n",
    "            solution.append(instruction_solution)\n",
    "        return solution\n",
    "\n",
    "    \n",
    "    def update_board(self):\n",
    "        #[name][busy][op][fi][fj][fk][qj][qk][rj][rk][instruction_line][state][state_cycles]\n",
    "\n",
    "        \"\"\" for unit in units_in_board:\n",
    "            \n",
    "            can_change_state = check dependencies and ex times\n",
    "            if can_change_state:\n",
    "                change_state(self.unit_configuration[unit])\n",
    "                write_to_solution(self.clock_counter)\n",
    "            if finished_writeback:\n",
    "                clean_unit() \"\"\"\n",
    "        ...\n",
    "    \n",
    "    def issue_instruction(self):\n",
    "        instruction_peek = self.instruction_queue[0][1]\n",
    "        unit_type = UNIT_TYPES[self.opcode_to_instruction(instruction_peek['opcode'])]\n",
    "        instruction_destination = instruction_peek['rd']\n",
    "        for unit in self.board:\n",
    "            print(f'{unit['type']} and { unit_type}')\n",
    "            if unit['type'] == unit_type:\n",
    "                if unit['busy'] == False and self.hazard_check(instruction_destination) != False:\n",
    "                    element = self.instruction_queue.pop(0)\n",
    "                    instruction = element[1]\n",
    "                    instruction_line = element[0]\n",
    "                    self.set_instruction(instruction, unit)\n",
    "                    self.update_solution(instruction_line,'issue')\n",
    "\n",
    "    def update_solution(self, line, type):\n",
    "        line = line + 1\n",
    "        self.solution[line][type] = self.clock_counter\n",
    "\n",
    "    def opcode_to_instruction(self,opcode):\n",
    "        instruction_name = list(OPCODES.keys())[opcode]\n",
    "        return instruction_name\n",
    "\n",
    "    \n",
    "    def set_instruction(self, instruction, unit):\n",
    "        ...\n",
    "\n",
    "    \n",
    "    def hazard_check(self, fi):\n",
    "        hazard = False\n",
    "        for unit in self.board:\n",
    "            if unit['fi'] == fi:\n",
    "                hazard = True\n",
    "        return hazard\n",
    "\n",
    "    def board_busy(self):\n",
    "        busy = False\n",
    "        for unit in self.board:\n",
    "            busy = unit['busy'] or busy\n",
    "        return busy\n",
    "\n",
    "    def print_board(self):\n",
    "        print(tabulate.tabulate(self.board))\n",
    "\n",
    "    def print_solution(self):\n",
    "        print(tabulate.tabulate(self.solution))\n",
    "\n",
    "    def break_board(self):\n",
    "        for unit in self.board:\n",
    "            if unit['type'] == 'fmult':\n",
    "                if unit[ 'name'] == 'fmult1':\n",
    "                    unit['instruction_line'] = 13\n",
    "                    print(unit)\n",
    "\n",
    "    def run(self):\n",
    "        \n",
    "        self.done = False\n",
    "        while not self.done:\n",
    "            self.tick()\n",
    "        self.print_solution()\n",
    "        "
   ]
  },
  {
   "cell_type": "code",
   "execution_count": 189,
   "metadata": {},
   "outputs": [
    {
     "name": "stdout",
     "output_type": "stream",
     "text": [
      "----  -----  -----                  --\n",
      "fint  fint0  False                   1\n",
      "fmul  fmul0  False                   4\n",
      "fmul  fmul1  False                   4\n",
      "fadd  fadd0  False                   2\n",
      "fdiv  fdiv0  False                  10\n",
      "----  -----  -----                  --\n"
     ]
    }
   ],
   "source": [
    "config_file = open(\"./unit_config.json\")\n",
    "configuration = json.load(config_file)\n",
    "instructions = parse_file('example.s')\n",
    "\n",
    "board = ScoreBoard(instructions, configuration)\n",
    "board.print_board()"
   ]
  },
  {
   "cell_type": "code",
   "execution_count": 190,
   "metadata": {},
   "outputs": [
    {
     "name": "stdout",
     "output_type": "stream",
     "text": [
      "fint and fint\n",
      "fmul and fint\n",
      "fmul and fint\n",
      "fadd and fint\n",
      "fdiv and fint\n"
     ]
    }
   ],
   "source": [
    "board.issue_instruction()"
   ]
  },
  {
   "cell_type": "code",
   "execution_count": 164,
   "metadata": {},
   "outputs": [
    {
     "name": "stdout",
     "output_type": "stream",
     "text": [
      "----  -----  -----                  --\n",
      "fint  fint0  False                   1\n",
      "fmul  fmul0  False                   4\n",
      "fmul  fmul1  False                   4\n",
      "fadd  fadd0  False                   2\n",
      "fdiv  fdiv0  False                  10\n",
      "----  -----  -----                  --\n"
     ]
    }
   ],
   "source": [
    "board.print_board()"
   ]
  },
  {
   "cell_type": "code",
   "execution_count": 163,
   "metadata": {},
   "outputs": [
    {
     "name": "stdout",
     "output_type": "stream",
     "text": [
      "----  -----  ----  --  -----\n",
      "Name  Issue  Read  Ex  Write\n",
      "0\n",
      "0\n",
      "5\n",
      "4\n",
      "2\n",
      "1\n",
      "----  -----  ----  --  -----\n"
     ]
    }
   ],
   "source": [
    "board.print_solution()"
   ]
  },
  {
   "cell_type": "code",
   "execution_count": 82,
   "metadata": {},
   "outputs": [
    {
     "data": {
      "text/plain": [
       "[{'type': 'fint',\n",
       "  'name': 'fint0',\n",
       "  'busy': False,\n",
       "  'op': None,\n",
       "  'fi': None,\n",
       "  'fk': None,\n",
       "  'qj': None,\n",
       "  'qk': None,\n",
       "  'rj': None,\n",
       "  'instruction_line': None,\n",
       "  'state': None,\n",
       "  'ex_cycles': 1},\n",
       " {'type': 'fmult',\n",
       "  'name': 'fmult0',\n",
       "  'busy': False,\n",
       "  'op': None,\n",
       "  'fi': None,\n",
       "  'fk': None,\n",
       "  'qj': None,\n",
       "  'qk': None,\n",
       "  'rj': None,\n",
       "  'instruction_line': None,\n",
       "  'state': None,\n",
       "  'ex_cycles': 4},\n",
       " {'type': 'fmult',\n",
       "  'name': 'fmult1',\n",
       "  'busy': False,\n",
       "  'op': None,\n",
       "  'fi': None,\n",
       "  'fk': None,\n",
       "  'qj': None,\n",
       "  'qk': None,\n",
       "  'rj': None,\n",
       "  'instruction_line': 13,\n",
       "  'state': None,\n",
       "  'ex_cycles': 4},\n",
       " {'type': 'fadd',\n",
       "  'name': 'fadd0',\n",
       "  'busy': False,\n",
       "  'op': None,\n",
       "  'fi': None,\n",
       "  'fk': None,\n",
       "  'qj': None,\n",
       "  'qk': None,\n",
       "  'rj': None,\n",
       "  'instruction_line': None,\n",
       "  'state': None,\n",
       "  'ex_cycles': 2},\n",
       " {'type': 'fdiv',\n",
       "  'name': 'fdiv0',\n",
       "  'busy': False,\n",
       "  'op': None,\n",
       "  'fi': None,\n",
       "  'fk': None,\n",
       "  'qj': None,\n",
       "  'qk': None,\n",
       "  'rj': None,\n",
       "  'instruction_line': None,\n",
       "  'state': None,\n",
       "  'ex_cycles': 10}]"
      ]
     },
     "execution_count": 82,
     "metadata": {},
     "output_type": "execute_result"
    }
   ],
   "source": [
    "board.board"
   ]
  },
  {
   "cell_type": "code",
   "execution_count": 77,
   "metadata": {},
   "outputs": [
    {
     "name": "stdout",
     "output_type": "stream",
     "text": [
      "{'type': 'fmult', 'name': 'fmult1', 'busy': False, 'op': None, 'fi': None, 'fk': None, 'qj': None, 'qk': None, 'rj': None, 'instruction_line': 13, 'state': None, 'ex_cycles': 4}\n"
     ]
    }
   ],
   "source": [
    "for unit in board.board:\n",
    "    if unit['type'] == 'fmult':\n",
    "        if unit[ 'name'] == 'fmult1':\n",
    "            unit['instruction_line'] = 13\n",
    "            print(unit)\n",
    "     \n",
    "    "
   ]
  },
  {
   "cell_type": "code",
   "execution_count": 46,
   "metadata": {},
   "outputs": [
    {
     "name": "stdout",
     "output_type": "stream",
     "text": [
      "1\n",
      "4\n",
      "2\n",
      "10\n"
     ]
    }
   ],
   "source": [
    "for unit in units_configuration:\n",
    "    print(units_configuration[unit]['ex_cycles'])"
   ]
  },
  {
   "cell_type": "code",
   "execution_count": 117,
   "metadata": {},
   "outputs": [
    {
     "ename": "AttributeError",
     "evalue": "'dict_values' object has no attribute 'index'",
     "output_type": "error",
     "traceback": [
      "\u001b[1;31m---------------------------------------------------------------------------\u001b[0m",
      "\u001b[1;31mAttributeError\u001b[0m                            Traceback (most recent call last)",
      "Cell \u001b[1;32mIn[117], line 1\u001b[0m\n\u001b[1;32m----> 1\u001b[0m OPCODES\u001b[38;5;241m.\u001b[39mkeys()[OPCODES\u001b[38;5;241m.\u001b[39mvalues()\u001b[38;5;241m.\u001b[39mindex(\u001b[38;5;241m0\u001b[39m)]\n",
      "\u001b[1;31mAttributeError\u001b[0m: 'dict_values' object has no attribute 'index'"
     ]
    }
   ],
   "source": [
    "OPCODES.keys()[OPCODES.values().index(0)]"
   ]
  },
  {
   "cell_type": "code",
   "execution_count": 138,
   "metadata": {},
   "outputs": [
    {
     "data": {
      "text/plain": [
       "['fld', 'fsd', 'fadd', 'fsub', 'fmul', 'fdiv']"
      ]
     },
     "execution_count": 138,
     "metadata": {},
     "output_type": "execute_result"
    }
   ],
   "source": [
    "list(OPCODES.keys())"
   ]
  },
  {
   "cell_type": "code",
   "execution_count": 103,
   "metadata": {},
   "outputs": [
    {
     "data": {
      "text/plain": [
       "{'opcode': 0,\n",
       " 'rs1': 1,\n",
       " 'rs1_type': 'int',\n",
       " 'rs2': 0,\n",
       " 'rs2_type': None,\n",
       " 'rd': 1,\n",
       " 'rd_type': 'float',\n",
       " 'imm': 0}"
      ]
     },
     "execution_count": 103,
     "metadata": {},
     "output_type": "execute_result"
    }
   ],
   "source": [
    "enum[0][1]"
   ]
  },
  {
   "cell_type": "code",
   "execution_count": 29,
   "metadata": {},
   "outputs": [
    {
     "data": {
      "text/plain": [
       "[{'opcode': 0,\n",
       "  'rs1': 1,\n",
       "  'rs1_type': 'int',\n",
       "  'rs2': 0,\n",
       "  'rs2_type': None,\n",
       "  'rd': 1,\n",
       "  'rd_type': 'float',\n",
       "  'imm': 0},\n",
       " {'opcode': 0,\n",
       "  'rs1': 1,\n",
       "  'rs1_type': 'int',\n",
       "  'rs2': 0,\n",
       "  'rs2_type': None,\n",
       "  'rd': 5,\n",
       "  'rd_type': 'float',\n",
       "  'imm': 0},\n",
       " {'opcode': 5,\n",
       "  'rs1': 4,\n",
       "  'rs1_type': 'float',\n",
       "  'rs2': 5,\n",
       "  'rs2_type': 'float',\n",
       "  'rd': 2,\n",
       "  'rd_type': 'float',\n",
       "  'imm': None},\n",
       " {'opcode': 4,\n",
       "  'rs1': 8,\n",
       "  'rs1_type': 'float',\n",
       "  'rs2': 9,\n",
       "  'rs2_type': 'float',\n",
       "  'rd': 4,\n",
       "  'rd_type': 'float',\n",
       "  'imm': None},\n",
       " {'opcode': 2,\n",
       "  'rs1': 2,\n",
       "  'rs1_type': 'float',\n",
       "  'rs2': 3,\n",
       "  'rs2_type': 'float',\n",
       "  'rd': 1,\n",
       "  'rd_type': 'float',\n",
       "  'imm': None},\n",
       " {'opcode': 1,\n",
       "  'rs1': 2,\n",
       "  'rs1_type': 'int',\n",
       "  'rs2': 4,\n",
       "  'rs2_type': 'float',\n",
       "  'rd': 0,\n",
       "  'rd_type': None,\n",
       "  'imm': 0}]"
      ]
     },
     "execution_count": 29,
     "metadata": {},
     "output_type": "execute_result"
    }
   ],
   "source": [
    "instructions"
   ]
  },
  {
   "cell_type": "code",
   "execution_count": 14,
   "metadata": {},
   "outputs": [],
   "source": [
    "a = {'banana':1,'orange':5}"
   ]
  },
  {
   "cell_type": "code",
   "execution_count": 15,
   "metadata": {},
   "outputs": [],
   "source": [
    "a.get(5)"
   ]
  }
 ],
 "metadata": {
  "kernelspec": {
   "display_name": "arq_comp",
   "language": "python",
   "name": "python3"
  },
  "language_info": {
   "codemirror_mode": {
    "name": "ipython",
    "version": 3
   },
   "file_extension": ".py",
   "mimetype": "text/x-python",
   "name": "python",
   "nbconvert_exporter": "python",
   "pygments_lexer": "ipython3",
   "version": "3.12.2"
  }
 },
 "nbformat": 4,
 "nbformat_minor": 2
}
