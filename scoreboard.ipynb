{
 "cells": [
  {
   "cell_type": "code",
   "execution_count": 6,
   "metadata": {},
   "outputs": [],
   "source": [
    "import os\n",
    "import sys\n",
    "import json\n",
    "from rv_zep import parse_file\n"
   ]
  },
  {
   "cell_type": "code",
   "execution_count": 13,
   "metadata": {},
   "outputs": [],
   "source": [
    "config_file = open(\"./unit_config.json\")\n",
    "units = json.load(config_file)"
   ]
  },
  {
   "cell_type": "code",
   "execution_count": 15,
   "metadata": {},
   "outputs": [
    {
     "data": {
      "text/plain": [
       "1"
      ]
     },
     "execution_count": 15,
     "metadata": {},
     "output_type": "execute_result"
    }
   ],
   "source": [
    "units['fint']['number']"
   ]
  },
  {
   "cell_type": "code",
   "execution_count": 14,
   "metadata": {},
   "outputs": [
    {
     "name": "stdout",
     "output_type": "stream",
     "text": [
      "fint\n",
      "fmult\n",
      "fadd\n",
      "fdiv\n"
     ]
    }
   ],
   "source": [
    "for unit in units:\n",
    "    print(unit)"
   ]
  },
  {
   "cell_type": "code",
   "execution_count": null,
   "metadata": {},
   "outputs": [],
   "source": [
    "class ScoreBoard:\n",
    "    def __init__(self, available_ops, units_configuration):\n",
    "\n",
    "        self.units_configuration = units_configuration\n",
    "        self.instruction_queue = []\n",
    "        self.board = []\n",
    "        self.ops = {}\n",
    "        self.clock_counter = 0\n",
    "        self.solution = self.build_solution(self.instruction_queue)\n",
    "    \n",
    "    def tick(self):\n",
    "\n",
    "        issue_instruction()\n",
    "        update_board()\n",
    "        self.clock_counter += 1\n",
    "\n",
    "        if self.instruction_queue == [] and not board_busy():\n",
    "            return True\n",
    "        else:\n",
    "            return False\n",
    "\n",
    "    def build_board(self):\n",
    "\n",
    "        for unit in self.units_configuration:\n",
    "            unit_number = self.units_configuration[unit]['number']\n",
    "        ...\n",
    "\n",
    "    def build_solution(self):\n",
    "        instruction = 0\n",
    "        issue = 1\n",
    "        read = 2\n",
    "        ex = 3\n",
    "        write = 4\n",
    "\n",
    "        return solution\n",
    "\n",
    "    \n",
    "    def update_board(self):\n",
    "        [name][busy][op][fi][fj][fk][qj][qk][rj][rk][instruction_line][state][state_cycles]\n",
    "        ...\n",
    "    \n",
    "    def issue_instruction(self):\n",
    "\n",
    "        instruction = self.instruction_queue.peek\n",
    "        \n",
    "        #check if there are free FUs available\n",
    "        #check if no other issues write to the same destination\n",
    "\n",
    "        ...\n",
    "\n",
    "    def board_busy(self):\n",
    "        busy = False\n",
    "        for unit in self.board:\n",
    "            busy = unit['busy'] or busy\n",
    "        return busy\n",
    "\n",
    "\n",
    "    def print_board(self):\n",
    "        ...\n",
    "\n",
    "    def print_solution(self):\n",
    "        ...\n",
    "\n",
    "    def run(self):\n",
    "        \n",
    "        self.done = False\n",
    "        while not self.done:\n",
    "            self.tick()\n",
    "        self.print_solution()\n",
    "        \n",
    "\n",
    "\n",
    "class FunctionalUnit:\n",
    "    def"
   ]
  },
  {
   "cell_type": "code",
   "execution_count": 18,
   "metadata": {},
   "outputs": [
    {
     "data": {
      "text/plain": [
       "0"
      ]
     },
     "execution_count": 18,
     "metadata": {},
     "output_type": "execute_result"
    }
   ],
   "source": [
    "queue[0]['opcode']"
   ]
  },
  {
   "cell_type": "code",
   "execution_count": 16,
   "metadata": {},
   "outputs": [],
   "source": [
    "queue =parse_file('example.s')"
   ]
  }
 ],
 "metadata": {
  "kernelspec": {
   "display_name": "arq_comp",
   "language": "python",
   "name": "python3"
  },
  "language_info": {
   "codemirror_mode": {
    "name": "ipython",
    "version": 3
   },
   "file_extension": ".py",
   "mimetype": "text/x-python",
   "name": "python",
   "nbconvert_exporter": "python",
   "pygments_lexer": "ipython3",
   "version": "3.12.2"
  }
 },
 "nbformat": 4,
 "nbformat_minor": 2
}
